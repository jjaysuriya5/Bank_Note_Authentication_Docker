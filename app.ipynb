{
 "cells": [
  {
   "cell_type": "code",
   "execution_count": 3,
   "metadata": {},
   "outputs": [],
   "source": [
    "# pip install flasgger"
   ]
  },
  {
   "cell_type": "code",
   "execution_count": 6,
   "metadata": {},
   "outputs": [],
   "source": [
    "from flask import Flask, request\n",
    "import numpy as np\n",
    "import pickle\n",
    "import pandas as pd\n",
    "# import flasgger\n",
    "from flasgger import Swagger\n",
    "\n",
    "app=Flask(__name__)\n",
    "Swagger(app)\n",
    "\n",
    "pickle_in = open(\"classifier.pkl\",\"rb\")\n",
    "classifier=pickle.load(pickle_in)\n",
    "\n",
    "@app.route('/')\n",
    "def welcome():\n",
    "    return \"Welcome All\"\n",
    "\n",
    "@app.route('/predict',methods=[\"Get\"])\n",
    "def predict_note_authentication():\n",
    "    \n",
    "    \"\"\"Let's Authenticate the Banks Note \n",
    "    This is using docstrings for specifications.\n",
    "    ---\n",
    "    parameters:  \n",
    "      - name: variance\n",
    "        in: query\n",
    "        type: number\n",
    "        required: true\n",
    "      - name: skewness\n",
    "        in: query\n",
    "        type: number\n",
    "        required: true\n",
    "      - name: curtosis\n",
    "        in: query\n",
    "        type: number\n",
    "        required: true\n",
    "      - name: entropy\n",
    "        in: query\n",
    "        type: number\n",
    "        required: true\n",
    "    responses:\n",
    "        200:\n",
    "            description: The output values\n",
    "        \n",
    "    \"\"\"\n",
    "    variance=int(request.args.get(\"variance\"))\n",
    "    skewness=int(request.args.get(\"skewness\"))\n",
    "    curtosis=int(request.args.get(\"curtosis\"))\n",
    "    entropy=int(request.args.get(\"entropy\"))\n",
    "    prediction=classifier.predict([[variance,skewness,curtosis,entropy]])\n",
    "    print(prediction)\n",
    "    return \"Hello The answer is\"+str(prediction)\n",
    "\n",
    "@app.route('/predict_file',methods=[\"POST\"])\n",
    "def predict_note_file():\n",
    "    \"\"\"\n",
    "    Let's Authenticate the Banks Note \n",
    "    This is using docstrings for specifications.\n",
    "    ---\n",
    "    parameters:\n",
    "      - name: file\n",
    "        in: formData\n",
    "        type: file\n",
    "        required: true\n",
    "      \n",
    "    responses:\n",
    "        200:\n",
    "            description: The output values\n",
    "        \n",
    "    \"\"\"\n",
    "    df_test=pd.read_csv(request.files.get(\"file\"))\n",
    "    print(df_test.head())\n",
    "    prediction=classifier.predict(df_test)\n",
    "    \n",
    "    return str(list(prediction))\n",
    "\n",
    "# if __name__=='__main__':\n",
    "#     app.run()"
   ]
  },
  {
   "cell_type": "code",
   "execution_count": null,
   "metadata": {},
   "outputs": [
    {
     "name": "stderr",
     "output_type": "stream",
     "text": [
      " * Running on http://localhost:8000/ (Press CTRL+C to quit)\n",
      "127.0.0.1 - - [27/May/2020 13:24:09] \"GET /apidocs/ HTTP/1.1\" 200 -\n",
      "127.0.0.1 - - [27/May/2020 13:24:09] \"GET /flasgger_static/swagger-ui.css HTTP/1.1\" 200 -\n",
      "127.0.0.1 - - [27/May/2020 13:24:09] \"GET /flasgger_static/swagger-ui-bundle.js HTTP/1.1\" 200 -\n",
      "127.0.0.1 - - [27/May/2020 13:24:09] \"GET /flasgger_static/swagger-ui-standalone-preset.js HTTP/1.1\" 200 -\n",
      "127.0.0.1 - - [27/May/2020 13:24:09] \"GET /flasgger_static/lib/jquery.min.js HTTP/1.1\" 200 -\n",
      "127.0.0.1 - - [27/May/2020 13:24:10] \"GET /apispec_1.json HTTP/1.1\" 200 -\n",
      "127.0.0.1 - - [27/May/2020 13:24:10] \"GET /flasgger_static/favicon-32x32.png HTTP/1.1\" 200 -\n",
      "127.0.0.1 - - [27/May/2020 13:26:15] \"GET /predict?variance=0&skewness=2&curtosis=3&entropy=1 HTTP/1.1\" 200 -\n"
     ]
    },
    {
     "name": "stdout",
     "output_type": "stream",
     "text": [
      "[0]\n"
     ]
    },
    {
     "name": "stderr",
     "output_type": "stream",
     "text": [
      "127.0.0.1 - - [27/May/2020 13:27:06] \"POST /predict_file HTTP/1.1\" 200 -\n"
     ]
    },
    {
     "name": "stdout",
     "output_type": "stream",
     "text": [
      "   variance  skewness  curtosis  entropy\n",
      "0   3.62160    8.6661   -2.8073 -0.44699\n",
      "1   4.54590    8.1674   -2.4586 -1.46210\n",
      "2   3.86600   -2.6383    1.9242  0.10645\n",
      "3   3.45660    9.5228   -4.0112 -3.59440\n",
      "4  -0.47465   -4.3496    1.9901  0.75170\n"
     ]
    }
   ],
   "source": [
    "from werkzeug.serving import run_simple\n",
    "run_simple('localhost' , 8000 , app)"
   ]
  },
  {
   "cell_type": "code",
   "execution_count": 7,
   "metadata": {},
   "outputs": [],
   "source": [
    "# http://localhost:8000/predict?variance=0&skewness=1&curtosis=2&entropy=3 - Class 0\n",
    "        \n",
    "# http://localhost:8000/predict?variance=-6&skewness=-10&curtosis=10&entropy=3 - Class 1 "
   ]
  },
  {
   "cell_type": "code",
   "execution_count": null,
   "metadata": {},
   "outputs": [],
   "source": [
    "# swagger api\n",
    "\n",
    "# http://localhost:8000/apidocs/"
   ]
  },
  {
   "cell_type": "code",
   "execution_count": null,
   "metadata": {},
   "outputs": [],
   "source": [
    "# 1) Creating Docker File\n",
    "\n",
    "# FROM continuumio/anaconda3:4.4.0      >>> This is used for extracting the base image\n",
    "# COPY . /usr/app/                      >>> This is for moving all the data in current directory to docker root directory\n",
    "# EXPOSE 5000                           >>> This is for networking port\n",
    "# WORKDIR /usr/app/                     >>> Changing the work directory to root directory\n",
    "# RUN pip install -r requirements.txt   >>> Installing the dependencies\n",
    "# CMD python app.py                     >>> Running the flask application\n",
    "\n",
    "\n",
    "# docker run -dp 80:80 docker/getting-started\n",
    "\n",
    "# 2) Building a docker image\n",
    "\n",
    "# docker build -t money_api .\n",
    "# docker run -p 8000:8000 money_api\n",
    "\n",
    "# 3) URL is obtained "
   ]
  }
 ],
 "metadata": {
  "kernelspec": {
   "display_name": "Python 3",
   "language": "python",
   "name": "python3"
  },
  "language_info": {
   "codemirror_mode": {
    "name": "ipython",
    "version": 3
   },
   "file_extension": ".py",
   "mimetype": "text/x-python",
   "name": "python",
   "nbconvert_exporter": "python",
   "pygments_lexer": "ipython3",
   "version": "3.7.3"
  }
 },
 "nbformat": 4,
 "nbformat_minor": 2
}
